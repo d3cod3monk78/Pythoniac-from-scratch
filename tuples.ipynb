{
 "cells": [
  {
   "cell_type": "markdown",
   "id": "52f3c59a",
   "metadata": {},
   "source": [
    "# Tuples"
   ]
  },
  {
   "cell_type": "markdown",
   "id": "c97bb6a5",
   "metadata": {},
   "source": [
    "When tuple is created we can't change it, It means a tuple is immutable, and beside that tuple is like a list."
   ]
  },
  {
   "cell_type": "code",
   "execution_count": 1,
   "id": "b38bd945",
   "metadata": {},
   "outputs": [
    {
     "name": "stdout",
     "output_type": "stream",
     "text": [
      "(1, 2, 3, 4, 5)\n"
     ]
    }
   ],
   "source": [
    "arr_tuple = (1,2,3,4,5)\n",
    "print(arr_tuple)"
   ]
  },
  {
   "cell_type": "code",
   "execution_count": 2,
   "id": "37cff7ac",
   "metadata": {},
   "outputs": [
    {
     "name": "stdout",
     "output_type": "stream",
     "text": [
      "(0, 1, 2, 3, 4, 5, 6, 7, 8, 9)\n"
     ]
    }
   ],
   "source": [
    "arr_comprehension = tuple([x for x in range(10)])\n",
    "print(arr_comprehension)"
   ]
  },
  {
   "cell_type": "code",
   "execution_count": 3,
   "id": "29d1b077",
   "metadata": {},
   "outputs": [
    {
     "name": "stdout",
     "output_type": "stream",
     "text": [
      "<generator object <genexpr> at 0x000002AFFC042740>\n",
      "True\n"
     ]
    }
   ],
   "source": [
    "name_tuple = (x for x in \"what the hell is going on bitches\")\n",
    "print(name_tuple)\n",
    "print('h' in name_tuple)"
   ]
  }
 ],
 "metadata": {
  "kernelspec": {
   "display_name": "venv",
   "language": "python",
   "name": "python3"
  },
  "language_info": {
   "codemirror_mode": {
    "name": "ipython",
    "version": 3
   },
   "file_extension": ".py",
   "mimetype": "text/x-python",
   "name": "python",
   "nbconvert_exporter": "python",
   "pygments_lexer": "ipython3",
   "version": "3.12.7"
  }
 },
 "nbformat": 4,
 "nbformat_minor": 5
}

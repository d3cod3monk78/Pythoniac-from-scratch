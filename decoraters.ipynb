{
 "cells": [
  {
   "cell_type": "markdown",
   "id": "ed6d7f9f",
   "metadata": {},
   "source": [
    "# Decorators"
   ]
  },
  {
   "cell_type": "code",
   "execution_count": 1,
   "id": "1ceaa25b",
   "metadata": {},
   "outputs": [],
   "source": [
    "def welcome():\n",
    "\tprint('what the hell is going on here?')"
   ]
  },
  {
   "cell_type": "code",
   "execution_count": 2,
   "id": "1eb82549",
   "metadata": {},
   "outputs": [
    {
     "name": "stdout",
     "output_type": "stream",
     "text": [
      "what the hell is going on here?\n"
     ]
    }
   ],
   "source": [
    "copy_welcome = welcome\n",
    "copy_welcome()"
   ]
  },
  {
   "cell_type": "code",
   "execution_count": 3,
   "id": "ab3083f4",
   "metadata": {},
   "outputs": [
    {
     "name": "stdout",
     "output_type": "stream",
     "text": [
      "what hell are you doing in you life Dev\n"
     ]
    }
   ],
   "source": [
    "def outer():\n",
    "\tname = 'Dev'\n",
    "\n",
    "\tdef inner():\n",
    "\t\tprint(f'what hell are you doing in you life {name}')\n",
    "\n",
    "\treturn inner\n",
    "\n",
    "test = outer()\n",
    "test()"
   ]
  },
  {
   "cell_type": "code",
   "execution_count": 4,
   "id": "0fcc7ebe",
   "metadata": {},
   "outputs": [
    {
     "name": "stdout",
     "output_type": "stream",
     "text": [
      "Before the function\n",
      "what the hell is going on here?\n",
      "After the function\n"
     ]
    }
   ],
   "source": [
    "def test_decorator(func):\n",
    "\tdef wrapper():\n",
    "\t\tprint('Before the function')\n",
    "\t\tfunc()\n",
    "\t\tprint('After the function')\n",
    "\n",
    "\treturn wrapper\n",
    "\n",
    "@test_decorator\n",
    "def greet():\n",
    "\tprint('what the hell is going on here?')\n",
    "\n",
    "greet()"
   ]
  }
 ],
 "metadata": {
  "kernelspec": {
   "display_name": "venv",
   "language": "python",
   "name": "python3"
  },
  "language_info": {
   "codemirror_mode": {
    "name": "ipython",
    "version": 3
   },
   "file_extension": ".py",
   "mimetype": "text/x-python",
   "name": "python",
   "nbconvert_exporter": "python",
   "pygments_lexer": "ipython3",
   "version": "3.12.7"
  }
 },
 "nbformat": 4,
 "nbformat_minor": 5
}

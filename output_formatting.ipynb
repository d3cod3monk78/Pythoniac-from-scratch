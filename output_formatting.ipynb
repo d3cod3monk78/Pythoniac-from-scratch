{
 "cells": [
  {
   "cell_type": "markdown",
   "id": "73965c6f",
   "metadata": {},
   "source": [
    "# Python Output Formatting"
   ]
  },
  {
   "cell_type": "markdown",
   "id": "9f6fda4a",
   "metadata": {},
   "source": [
    "`print(object=, separator=, end=, file=, flush=)`"
   ]
  },
  {
   "cell_type": "code",
   "execution_count": 3,
   "id": "cff99204",
   "metadata": {},
   "outputs": [
    {
     "name": "stdout",
     "output_type": "stream",
     "text": [
      "Name: Dev and Age: 25\n"
     ]
    }
   ],
   "source": [
    "name = \"Dev\"\n",
    "age= 25\n",
    "print(\"Name:\", name, \"and\", \"Age:\", age)"
   ]
  },
  {
   "cell_type": "code",
   "execution_count": 2,
   "id": "c68fcac0",
   "metadata": {},
   "outputs": [
    {
     "name": "stdout",
     "output_type": "stream",
     "text": [
      "Name: Dev and age: 25\n"
     ]
    }
   ],
   "source": [
    "print(f'Name: {name} and age: {age}')"
   ]
  },
  {
   "cell_type": "code",
   "execution_count": 4,
   "id": "f7e1b243",
   "metadata": {},
   "outputs": [
    {
     "name": "stdout",
     "output_type": "stream",
     "text": [
      "Pis value 3.15\n"
     ]
    }
   ],
   "source": [
    "pi = 3.1454666\n",
    "print(f'Pis value {pi:.2f}')"
   ]
  },
  {
   "cell_type": "code",
   "execution_count": 5,
   "id": "5bd48592",
   "metadata": {},
   "outputs": [
    {
     "name": "stdout",
     "output_type": "stream",
     "text": [
      "Name is Dev and age is 25\n"
     ]
    }
   ],
   "source": [
    "print('Name is {} and age is {}'.format(name, age))"
   ]
  }
 ],
 "metadata": {
  "kernelspec": {
   "display_name": "venv",
   "language": "python",
   "name": "python3"
  },
  "language_info": {
   "codemirror_mode": {
    "name": "ipython",
    "version": 3
   },
   "file_extension": ".py",
   "mimetype": "text/x-python",
   "name": "python",
   "nbconvert_exporter": "python",
   "pygments_lexer": "ipython3",
   "version": "3.12.7"
  }
 },
 "nbformat": 4,
 "nbformat_minor": 5
}

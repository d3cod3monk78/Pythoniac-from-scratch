{
 "cells": [
  {
   "cell_type": "markdown",
   "id": "480185a0",
   "metadata": {},
   "source": [
    "# Flow Loops"
   ]
  },
  {
   "cell_type": "markdown",
   "id": "c573fb85",
   "metadata": {},
   "source": [
    "1. Print all even numbers from 1 to 100. Skip numbers divisible by 6."
   ]
  },
  {
   "cell_type": "code",
   "execution_count": 1,
   "id": "ca3169de",
   "metadata": {},
   "outputs": [
    {
     "name": "stdout",
     "output_type": "stream",
     "text": [
      "2 4 8 10 14 16 20 22 26 28 32 34 38 40 44 46 50 52 56 58 62 64 68 70 74 76 80 82 86 88 92 94 98 100 \n"
     ]
    }
   ],
   "source": [
    "def print_even_numbers(number):\n",
    "\tfor x in range(1, number + 1):\n",
    "\t\tif x%6 == 0:\n",
    "\t\t\tcontinue\n",
    "\t\tif x%2 == 0:\n",
    "\t\t\tprint(x, end=' ')\n",
    "\tprint()\n",
    "\n",
    "print_even_numbers(100)"
   ]
  },
  {
   "cell_type": "markdown",
   "id": "09cea01e",
   "metadata": {},
   "source": [
    "2. Write a program to count how many odd numbers are between two given numbers `a` and `b`"
   ]
  },
  {
   "cell_type": "code",
   "execution_count": 2,
   "id": "132da47c",
   "metadata": {},
   "outputs": [
    {
     "name": "stdout",
     "output_type": "stream",
     "text": [
      "Count of odd numbers between 17 to 38 is 11\n"
     ]
    }
   ],
   "source": [
    "def count_odd_numbers(a, b):\n",
    "\tcount = 0\n",
    "\tfor x in range(a, b+1):\n",
    "\t\tif x%2 != 0:\n",
    "\t\t\tcount += 1\n",
    "\n",
    "\treturn count\n",
    "\n",
    "print(f'Count of odd numbers between 17 to 38 is {count_odd_numbers(17, 38)}')"
   ]
  },
  {
   "cell_type": "markdown",
   "id": "c612bbc2",
   "metadata": {},
   "source": [
    "3. Find the first number between 1 to 100 that is divisible by 13 and greater than 50. Use `break`"
   ]
  },
  {
   "cell_type": "code",
   "execution_count": 3,
   "id": "335d83b5",
   "metadata": {},
   "outputs": [
    {
     "name": "stdout",
     "output_type": "stream",
     "text": [
      "52\n"
     ]
    }
   ],
   "source": [
    "def find_divisible(minimum, divisible):\n",
    "\tnumber = 0\n",
    "\tfor x in range(minimum, 101):\n",
    "\t\tnumber =  x\n",
    "\t\tif x%divisible == 0:\n",
    "\t\t\tbreak\n",
    "\n",
    "\treturn number\n",
    "\n",
    "print(find_divisible(50, 13))"
   ]
  }
 ],
 "metadata": {
  "kernelspec": {
   "display_name": "venv",
   "language": "python",
   "name": "python3"
  },
  "language_info": {
   "codemirror_mode": {
    "name": "ipython",
    "version": 3
   },
   "file_extension": ".py",
   "mimetype": "text/x-python",
   "name": "python",
   "nbconvert_exporter": "python",
   "pygments_lexer": "ipython3",
   "version": "3.12.7"
  }
 },
 "nbformat": 4,
 "nbformat_minor": 5
}

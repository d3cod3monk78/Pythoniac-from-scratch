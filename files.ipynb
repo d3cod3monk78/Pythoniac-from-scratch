{
 "cells": [
  {
   "cell_type": "markdown",
   "id": "7ee84d80",
   "metadata": {},
   "source": [
    "# Files"
   ]
  },
  {
   "cell_type": "code",
   "execution_count": 1,
   "id": "cb91c2f6",
   "metadata": {},
   "outputs": [
    {
     "name": "stdout",
     "output_type": "stream",
     "text": [
      "d:\\ml-dev\\Pythoniac-from-scratch\n"
     ]
    }
   ],
   "source": [
    "import os\n",
    "\n",
    "print(os.getcwd())"
   ]
  },
  {
   "cell_type": "code",
   "execution_count": 2,
   "id": "f20529eb",
   "metadata": {},
   "outputs": [
    {
     "name": "stdout",
     "output_type": "stream",
     "text": [
      "['.git', 'files.ipynb', 'flow_loops.ipynb', 'LICENSE', 'lists.ipynb', 'map.ipynb', 'output_formatting.ipynb', 'README.md', 'sets.ipynb', 'testdir', 'tuples.ipynb', 'venv']\n"
     ]
    }
   ],
   "source": [
    "os.mkdir('testdir')\n",
    "print(os.listdir())"
   ]
  },
  {
   "cell_type": "code",
   "execution_count": 3,
   "id": "024e4795",
   "metadata": {},
   "outputs": [
    {
     "name": "stdout",
     "output_type": "stream",
     "text": [
      "['.git', 'files.ipynb', 'flow_loops.ipynb', 'LICENSE', 'lists.ipynb', 'map.ipynb', 'new_testdir', 'output_formatting.ipynb', 'README.md', 'sets.ipynb', 'tuples.ipynb', 'venv']\n"
     ]
    }
   ],
   "source": [
    "os.rename('testdir','new_testdir')\n",
    "print(os.listdir())"
   ]
  },
  {
   "cell_type": "code",
   "execution_count": 5,
   "id": "43bcb6da",
   "metadata": {},
   "outputs": [
    {
     "name": "stdout",
     "output_type": "stream",
     "text": [
      "['.git', 'files.ipynb', 'flow_loops.ipynb', 'LICENSE', 'lists.ipynb', 'map.ipynb', 'output_formatting.ipynb', 'README.md', 'sets.ipynb', 'tuples.ipynb', 'venv']\n"
     ]
    }
   ],
   "source": [
    "# os.remove('new_testdir') # This is incorrect, because remove() is using with files not with directories\n",
    "os.rmdir('new_testdir')\n",
    "print(os.listdir())"
   ]
  },
  {
   "cell_type": "code",
   "execution_count": 6,
   "id": "e6392ef3",
   "metadata": {},
   "outputs": [
    {
     "name": "stdout",
     "output_type": "stream",
     "text": [
      "Lorem Ipsum is simply dummy text of the printing and typesetting industry. \n",
      "Lorem Ipsum has been the industry's standard dummy text ever since the 1500s, \n",
      "when an unknown printer took a galley of type and scrambled it to make a type specimen book. \n",
      "It has survived not only five centuries, but also the leap into electronic typesetting, \n",
      "remaining essentially unchanged. It was popularised in the 1960s with the release of Letraset \n",
      "sheets containing Lorem Ipsum passages, and more recently with desktop publishing software like \n",
      "Aldus PageMaker including versions of Lorem Ipsum.\n"
     ]
    }
   ],
   "source": [
    "with open('test.txt', 'r') as file:\n",
    "\tcontent = file.read()\n",
    "\tprint(content)"
   ]
  },
  {
   "cell_type": "code",
   "execution_count": 7,
   "id": "fca5f953",
   "metadata": {},
   "outputs": [
    {
     "name": "stdout",
     "output_type": "stream",
     "text": [
      "Lorem Ipsum is simply dummy text of the printing and typesetting industry.\n",
      "Lorem Ipsum has been the industry's standard dummy text ever since the 1500s,\n",
      "when an unknown printer took a galley of type and scrambled it to make a type specimen book.\n",
      "It has survived not only five centuries, but also the leap into electronic typesetting,\n",
      "remaining essentially unchanged. It was popularised in the 1960s with the release of Letraset\n",
      "sheets containing Lorem Ipsum passages, and more recently with desktop publishing software like\n",
      "Aldus PageMaker including versions of Lorem Ipsum.\n"
     ]
    }
   ],
   "source": [
    "with open('test.txt', 'r') as file:\n",
    "\tfor line in file:\n",
    "\t\tprint(line.strip())"
   ]
  },
  {
   "cell_type": "code",
   "execution_count": 8,
   "id": "dcc380b9",
   "metadata": {},
   "outputs": [
    {
     "name": "stdout",
     "output_type": "stream",
     "text": [
      "Lorem Ipsum is simply dummy text of the printing and typesetting industry.\n",
      "Lorem Ipsum has been the industry's standard dummy text ever since the 1500s,\n",
      "when an unknown printer took a galley of type and scrambled it to make a type specimen book.\n",
      "It has survived not only five centuries, but also the leap into electronic typesetting,\n",
      "remaining essentially unchanged. It was popularised in the 1960s with the release of Letraset\n",
      "sheets containing Lorem Ipsum passages, and more recently with desktop publishing software like\n",
      "Aldus PageMaker including versions of Lorem Ipsum.\n"
     ]
    }
   ],
   "source": [
    "with open('test.txt', 'r') as file:\n",
    "\tline = file.readline()\n",
    "\twhile(line):\n",
    "\t\tprint(line.strip())\n",
    "\t\tline = file.readline()"
   ]
  },
  {
   "cell_type": "code",
   "execution_count": 9,
   "id": "449f3494",
   "metadata": {},
   "outputs": [
    {
     "name": "stdout",
     "output_type": "stream",
     "text": [
      "Lorem Ipsum is simply dummy text of the printing and typesetting industry.\n",
      "Lorem Ipsum has been the industry's standard dummy text ever since the 1500s,\n",
      "when an unknown printer took a galley of type and scrambled it to make a type specimen book.\n",
      "It has survived not only five centuries, but also the leap into electronic typesetting,\n",
      "remaining essentially unchanged. It was popularised in the 1960s with the release of Letraset\n",
      "sheets containing Lorem Ipsum passages, and more recently with desktop publishing software like\n",
      "Aldus PageMaker including versions of Lorem Ipsum.\n"
     ]
    }
   ],
   "source": [
    "with open('test.txt', 'r') as file:\n",
    "\tlines = file.readlines()\n",
    "\tfor line in lines:\n",
    "\t\tprint(line.strip())"
   ]
  },
  {
   "cell_type": "code",
   "execution_count": 10,
   "id": "fcf96630",
   "metadata": {},
   "outputs": [
    {
     "name": "stdout",
     "output_type": "stream",
     "text": [
      "1: Lorem Ipsum is simply dummy text of the printing and typesetting industry. \n",
      "\n",
      "2: Lorem Ipsum has been the industry's standard dummy text ever since the 1500s, \n",
      "\n",
      "3: when an unknown printer took a galley of type and scrambled it to make a type specimen book. \n",
      "\n",
      "4: It has survived not only five centuries, but also the leap into electronic typesetting, \n",
      "\n",
      "5: remaining essentially unchanged. It was popularised in the 1960s with the release of Letraset \n",
      "\n",
      "6: sheets containing Lorem Ipsum passages, and more recently with desktop publishing software like \n",
      "\n",
      "7: Aldus PageMaker including versions of Lorem Ipsum.\n"
     ]
    }
   ],
   "source": [
    "with open('test.txt', 'r') as file:\n",
    "\tfor index, line in enumerate(file, start=1):\n",
    "\t\tprint(f'{index}: {line}')"
   ]
  },
  {
   "cell_type": "code",
   "execution_count": 11,
   "id": "9a0c86ab",
   "metadata": {},
   "outputs": [],
   "source": [
    "with open('example.txt', 'w') as file:\n",
    "\tfile.write('What the hell is going on here bitches\\n')"
   ]
  }
 ],
 "metadata": {
  "kernelspec": {
   "display_name": "venv",
   "language": "python",
   "name": "python3"
  },
  "language_info": {
   "codemirror_mode": {
    "name": "ipython",
    "version": 3
   },
   "file_extension": ".py",
   "mimetype": "text/x-python",
   "name": "python",
   "nbconvert_exporter": "python",
   "pygments_lexer": "ipython3",
   "version": "3.12.7"
  }
 },
 "nbformat": 4,
 "nbformat_minor": 5
}

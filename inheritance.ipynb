{
 "cells": [
  {
   "cell_type": "markdown",
   "id": "a463c581",
   "metadata": {},
   "source": [
    "# Inheritance"
   ]
  },
  {
   "cell_type": "code",
   "execution_count": 1,
   "id": "4a103095",
   "metadata": {},
   "outputs": [],
   "source": [
    "class Car:\n",
    "\tdef __init__(self, windows, doors, engine_type):\n",
    "\t\tself.windows = windows\n",
    "\t\tself.doors = doors\n",
    "\t\tself.engine_type = engine_type\n",
    "\n",
    "\tdef drive(self):\n",
    "\t\tprint(f'A Person drives a car with {self.engine_type}')\n",
    "\t\t"
   ]
  },
  {
   "cell_type": "code",
   "execution_count": 2,
   "id": "276f8a0a",
   "metadata": {},
   "outputs": [
    {
     "name": "stdout",
     "output_type": "stream",
     "text": [
      "A Person drives a car with 1000cc\n"
     ]
    }
   ],
   "source": [
    "civic = Car(4, 4, '1000cc')\n",
    "civic.drive()"
   ]
  },
  {
   "cell_type": "code",
   "execution_count": 3,
   "id": "7b6b9c0b",
   "metadata": {},
   "outputs": [],
   "source": [
    "class Tesla(Car):\n",
    "\tdef __init__(self, windows, doors, engine_type, is_self_drive):\n",
    "\t\tsuper().__init__(windows, doors, engine_type)\n",
    "\t\tself.is_self_drive = is_self_drive\n",
    "\n",
    "\tdef self_driving(self):\n",
    "\t\tprint(f'Tesla cars support Self Driving: {self.is_self_drive}')"
   ]
  },
  {
   "cell_type": "code",
   "execution_count": 4,
   "id": "d4ecba2b",
   "metadata": {},
   "outputs": [
    {
     "name": "stdout",
     "output_type": "stream",
     "text": [
      "Tesla cars support Self Driving: True\n",
      "A Person drives a car with 1200cc\n"
     ]
    }
   ],
   "source": [
    "tesla_s = Tesla(4,4,'1200cc', True)\n",
    "tesla_s.self_driving()\n",
    "tesla_s.drive()"
   ]
  },
  {
   "cell_type": "code",
   "execution_count": 14,
   "id": "aa34b0bf",
   "metadata": {},
   "outputs": [
    {
     "name": "stdout",
     "output_type": "stream",
     "text": [
      "Ruby\n"
     ]
    }
   ],
   "source": [
    "class Animal:\n",
    "\tdef __init__(self, name, **kwargs):\n",
    "\t\tsuper().__init__(**kwargs)\n",
    "\t\tself.name = name\n",
    "\n",
    "class Pet:\n",
    "\tdef __init__(self, owner, **kwargs):\n",
    "\t\tsuper().__init__(**kwargs)\n",
    "\t\tself.owner = owner\n",
    "\n",
    "class Dog(Animal, Pet):\n",
    "\tdef __init__(self, name, owner):\n",
    "\t\tsuper().__init__(name=name, owner=owner)\n",
    "\n",
    "ruby = Dog('Ruby', 'Melanie')\n",
    "print(ruby.name)\n"
   ]
  }
 ],
 "metadata": {
  "kernelspec": {
   "display_name": "venv",
   "language": "python",
   "name": "python3"
  },
  "language_info": {
   "codemirror_mode": {
    "name": "ipython",
    "version": 3
   },
   "file_extension": ".py",
   "mimetype": "text/x-python",
   "name": "python",
   "nbconvert_exporter": "python",
   "pygments_lexer": "ipython3",
   "version": "3.12.7"
  }
 },
 "nbformat": 4,
 "nbformat_minor": 5
}

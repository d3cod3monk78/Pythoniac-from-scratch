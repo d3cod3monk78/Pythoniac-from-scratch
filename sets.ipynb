{
 "cells": [
  {
   "cell_type": "markdown",
   "id": "77b1b978",
   "metadata": {},
   "source": [
    "# Sets"
   ]
  },
  {
   "cell_type": "code",
   "execution_count": 1,
   "id": "dd60642d",
   "metadata": {},
   "outputs": [
    {
     "name": "stdout",
     "output_type": "stream",
     "text": [
      "{0, 1, 2, 3, 4, 5, 6, 7, 8, 9}\n"
     ]
    }
   ],
   "source": [
    "num = set([x for x in range(10)])\n",
    "print(num)"
   ]
  },
  {
   "cell_type": "markdown",
   "id": "5ac0306c",
   "metadata": {},
   "source": [
    "In a set doesn't have any duplicates"
   ]
  },
  {
   "cell_type": "code",
   "execution_count": 2,
   "id": "79c86737",
   "metadata": {},
   "outputs": [
    {
     "name": "stdout",
     "output_type": "stream",
     "text": [
      "(1, 1, 2, 3, 3, 4, 4, 5, 5)\n"
     ]
    }
   ],
   "source": [
    "unique = (1,1,2,3,3,4,4,5,5)\n",
    "print(unique)"
   ]
  },
  {
   "cell_type": "code",
   "execution_count": 3,
   "id": "4f08e445",
   "metadata": {},
   "outputs": [
    {
     "name": "stdout",
     "output_type": "stream",
     "text": [
      "{1, 2, 3, 4, 5}\n"
     ]
    }
   ],
   "source": [
    "unique_set = {1,1,2,2,3,3,4,4,5,5}\n",
    "print(unique_set)"
   ]
  },
  {
   "cell_type": "code",
   "execution_count": 4,
   "id": "1e01dcf4",
   "metadata": {},
   "outputs": [
    {
     "name": "stdout",
     "output_type": "stream",
     "text": [
      "{1, 2, 3, 4, 5, 6, 7, 8, 9, 10}\n"
     ]
    }
   ],
   "source": [
    "other_set = set([x for x in range(6, 11)])\n",
    "unique_set.update(other_set)\n",
    "print(unique_set)"
   ]
  },
  {
   "cell_type": "code",
   "execution_count": 5,
   "id": "dececed0",
   "metadata": {},
   "outputs": [
    {
     "name": "stdout",
     "output_type": "stream",
     "text": [
      "{1, 2, 3, 4, 5, 6, 7, 8, 9, 10, 11, 12, 13, 14, 15}\n"
     ]
    }
   ],
   "source": [
    "other_list = [x for x in range(11, 16)]\n",
    "unique_set.update(other_list)\n",
    "print(unique_set)"
   ]
  },
  {
   "cell_type": "code",
   "execution_count": null,
   "id": "103fc99b",
   "metadata": {},
   "outputs": [],
   "source": []
  }
 ],
 "metadata": {
  "kernelspec": {
   "display_name": "venv",
   "language": "python",
   "name": "python3"
  },
  "language_info": {
   "codemirror_mode": {
    "name": "ipython",
    "version": 3
   },
   "file_extension": ".py",
   "mimetype": "text/x-python",
   "name": "python",
   "nbconvert_exporter": "python",
   "pygments_lexer": "ipython3",
   "version": "3.12.7"
  }
 },
 "nbformat": 4,
 "nbformat_minor": 5
}

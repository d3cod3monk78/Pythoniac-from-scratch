{
 "cells": [
  {
   "cell_type": "markdown",
   "id": "c1d04a79",
   "metadata": {},
   "source": [
    "# Lists"
   ]
  },
  {
   "cell_type": "code",
   "execution_count": 1,
   "id": "ec2a0d74",
   "metadata": {},
   "outputs": [
    {
     "name": "stdout",
     "output_type": "stream",
     "text": [
      "[1, 2, 3, 4, 5, 6, 7, 8, 9, 10]\n",
      "<class 'list'>\n"
     ]
    }
   ],
   "source": [
    "arr = [x for x in range(1,11)]\n",
    "print(arr)\n",
    "print(type(arr))"
   ]
  },
  {
   "cell_type": "markdown",
   "id": "f6cca8d7",
   "metadata": {},
   "source": [
    "## Empty List"
   ]
  },
  {
   "cell_type": "code",
   "execution_count": 2,
   "id": "94db3812",
   "metadata": {},
   "outputs": [],
   "source": [
    "empty_list = []"
   ]
  },
  {
   "cell_type": "markdown",
   "id": "010484f8",
   "metadata": {},
   "source": [
    "## Define a List with specific Length"
   ]
  },
  {
   "cell_type": "code",
   "execution_count": 4,
   "id": "76ce2883",
   "metadata": {},
   "outputs": [
    {
     "name": "stdout",
     "output_type": "stream",
     "text": [
      "[0, 0, 0, 0, 0]\n"
     ]
    }
   ],
   "source": [
    "arr_zero = [0] * 5\n",
    "print(arr_zero)"
   ]
  },
  {
   "cell_type": "code",
   "execution_count": 5,
   "id": "a7e04612",
   "metadata": {},
   "outputs": [
    {
     "name": "stdout",
     "output_type": "stream",
     "text": [
      "[None, None, None, None, None, None, None, None, None, None]\n"
     ]
    }
   ],
   "source": [
    "length = 10\n",
    "arr_none = [None] * length\n",
    "print(arr_none)"
   ]
  },
  {
   "cell_type": "markdown",
   "id": "9099593f",
   "metadata": {},
   "source": [
    "## Creating a list with list comprehension"
   ]
  },
  {
   "cell_type": "code",
   "execution_count": 6,
   "id": "6bbe64be",
   "metadata": {},
   "outputs": [
    {
     "name": "stdout",
     "output_type": "stream",
     "text": [
      "[0, 1, 2, 3, 4, 5, 6, 7, 8, 9]\n"
     ]
    }
   ],
   "source": [
    "arr_comprehension = [x for x in range(10)]\n",
    "print(arr_comprehension)"
   ]
  },
  {
   "cell_type": "code",
   "execution_count": 8,
   "id": "8b3fda28",
   "metadata": {},
   "outputs": [
    {
     "name": "stdout",
     "output_type": "stream",
     "text": [
      "[0, 2, 4, 6, 8, 10, 12, 14]\n"
     ]
    }
   ],
   "source": [
    "even_numbers = [x for x in range(15) if x%2 == 0]\n",
    "print(even_numbers)"
   ]
  },
  {
   "cell_type": "markdown",
   "id": "3233f00a",
   "metadata": {},
   "source": [
    "## Access Elements"
   ]
  },
  {
   "cell_type": "code",
   "execution_count": 10,
   "id": "624195b7",
   "metadata": {},
   "outputs": [
    {
     "name": "stdout",
     "output_type": "stream",
     "text": [
      "<class 'list'>\n"
     ]
    }
   ],
   "source": [
    "elements_arr = [x for x in range(10)]\n",
    "print(type(elements_arr))"
   ]
  },
  {
   "cell_type": "code",
   "execution_count": 11,
   "id": "6cee6265",
   "metadata": {},
   "outputs": [
    {
     "name": "stdout",
     "output_type": "stream",
     "text": [
      "0\n"
     ]
    }
   ],
   "source": [
    "print(elements_arr[0])"
   ]
  },
  {
   "cell_type": "code",
   "execution_count": 12,
   "id": "c09c85fa",
   "metadata": {},
   "outputs": [
    {
     "name": "stdout",
     "output_type": "stream",
     "text": [
      "5\n"
     ]
    }
   ],
   "source": [
    "print(elements_arr[5])"
   ]
  },
  {
   "cell_type": "code",
   "execution_count": 13,
   "id": "fb587934",
   "metadata": {},
   "outputs": [
    {
     "name": "stdout",
     "output_type": "stream",
     "text": [
      "9\n"
     ]
    }
   ],
   "source": [
    "print(elements_arr[-1])"
   ]
  },
  {
   "cell_type": "code",
   "execution_count": 14,
   "id": "aba2f785",
   "metadata": {},
   "outputs": [
    {
     "name": "stdout",
     "output_type": "stream",
     "text": [
      "10\n"
     ]
    }
   ],
   "source": [
    "print(len(elements_arr))"
   ]
  },
  {
   "cell_type": "markdown",
   "id": "d56314cc",
   "metadata": {},
   "source": [
    "## List Slicing"
   ]
  },
  {
   "cell_type": "code",
   "execution_count": 15,
   "id": "436169d9",
   "metadata": {},
   "outputs": [
    {
     "name": "stdout",
     "output_type": "stream",
     "text": [
      "[0, 1, 2, 3, 4]\n"
     ]
    }
   ],
   "source": [
    "print(elements_arr[0:5])"
   ]
  },
  {
   "cell_type": "code",
   "execution_count": 16,
   "id": "43145320",
   "metadata": {},
   "outputs": [
    {
     "name": "stdout",
     "output_type": "stream",
     "text": [
      "[3, 4, 5, 6]\n"
     ]
    }
   ],
   "source": [
    "print(elements_arr[3:7])"
   ]
  },
  {
   "cell_type": "code",
   "execution_count": 17,
   "id": "8d043038",
   "metadata": {},
   "outputs": [
    {
     "name": "stdout",
     "output_type": "stream",
     "text": [
      "[3, 4, 5, 6, 7]\n"
     ]
    }
   ],
   "source": [
    "print(elements_arr[-7: -2])"
   ]
  },
  {
   "cell_type": "code",
   "execution_count": 18,
   "id": "f22f5900",
   "metadata": {},
   "outputs": [
    {
     "name": "stdout",
     "output_type": "stream",
     "text": [
      "[0, 1, 2, 3]\n"
     ]
    }
   ],
   "source": [
    "print(elements_arr[:4])"
   ]
  },
  {
   "cell_type": "code",
   "execution_count": 19,
   "id": "97b023a6",
   "metadata": {},
   "outputs": [
    {
     "name": "stdout",
     "output_type": "stream",
     "text": [
      "[6, 7, 8, 9]\n"
     ]
    }
   ],
   "source": [
    "print(elements_arr[6:])"
   ]
  },
  {
   "cell_type": "markdown",
   "id": "fbb34026",
   "metadata": {},
   "source": [
    "## Add Elements to the list"
   ]
  },
  {
   "cell_type": "code",
   "execution_count": null,
   "id": "a8e80843",
   "metadata": {},
   "outputs": [
    {
     "name": "stdout",
     "output_type": "stream",
     "text": [
      "[0, 1, 2, 3, 4, 5, 6, 7, 8, 9, 10]\n"
     ]
    }
   ],
   "source": [
    "elements_arr.append(10)\n",
    "print(elements_arr)"
   ]
  },
  {
   "cell_type": "code",
   "execution_count": 21,
   "id": "64fcf2b5",
   "metadata": {},
   "outputs": [
    {
     "name": "stdout",
     "output_type": "stream",
     "text": [
      "11\n"
     ]
    }
   ],
   "source": [
    "print(len(elements_arr))"
   ]
  },
  {
   "cell_type": "code",
   "execution_count": 22,
   "id": "fe7fe999",
   "metadata": {},
   "outputs": [],
   "source": [
    "elements_arr.insert(5, \"By this we can add an element to desired potion\")"
   ]
  },
  {
   "cell_type": "code",
   "execution_count": 23,
   "id": "a6852733",
   "metadata": {},
   "outputs": [
    {
     "name": "stdout",
     "output_type": "stream",
     "text": [
      "[0, 1, 2, 3, 4, 'By this we can add an element to desired potion', 5, 6, 7, 8, 9, 10]\n"
     ]
    }
   ],
   "source": [
    "print(elements_arr)"
   ]
  },
  {
   "cell_type": "code",
   "execution_count": 24,
   "id": "1101d85c",
   "metadata": {},
   "outputs": [
    {
     "name": "stdout",
     "output_type": "stream",
     "text": [
      "[0, 1, 2, 3, 4, 'By this we can add an element to desired potion', 5, 6, 7, 8, 9, 10, 11, 12, 13, 14, 15]\n"
     ]
    }
   ],
   "source": [
    "other_list = [x for x in range(11, 16)]\n",
    "elements_arr.extend(other_list)\n",
    "print(elements_arr)"
   ]
  },
  {
   "cell_type": "code",
   "execution_count": 25,
   "id": "9c3213b2",
   "metadata": {},
   "outputs": [
    {
     "name": "stdout",
     "output_type": "stream",
     "text": [
      "[0, 1, 2, 3, 4, 'Changed the element by this', 5, 6, 7, 8, 9, 10, 11, 12, 13, 14, 15]\n"
     ]
    }
   ],
   "source": [
    "elements_arr[5] = \"Changed the element by this\"\n",
    "print(elements_arr)"
   ]
  },
  {
   "cell_type": "code",
   "execution_count": 26,
   "id": "36bc26a7",
   "metadata": {},
   "outputs": [],
   "source": [
    "elements_arr.remove(14)"
   ]
  },
  {
   "cell_type": "code",
   "execution_count": 27,
   "id": "b03f59a6",
   "metadata": {},
   "outputs": [
    {
     "name": "stdout",
     "output_type": "stream",
     "text": [
      "[0, 1, 2, 3, 4, 'Changed the element by this', 5, 6, 7, 8, 9, 10, 11, 12, 13, 15]\n"
     ]
    }
   ],
   "source": [
    "print(elements_arr)"
   ]
  },
  {
   "cell_type": "code",
   "execution_count": 28,
   "id": "a2ea12a8",
   "metadata": {},
   "outputs": [
    {
     "name": "stdout",
     "output_type": "stream",
     "text": [
      "[0, 1, 2, 3, 4, 5, 6, 7, 8, 9, 10, 11, 12, 13, 15]\n"
     ]
    }
   ],
   "source": [
    "del elements_arr[5]\n",
    "print(elements_arr)"
   ]
  },
  {
   "cell_type": "code",
   "execution_count": 29,
   "id": "f4d8d128",
   "metadata": {},
   "outputs": [],
   "source": [
    "elements_arr[14] = 14"
   ]
  },
  {
   "cell_type": "code",
   "execution_count": 30,
   "id": "11992501",
   "metadata": {},
   "outputs": [
    {
     "name": "stdout",
     "output_type": "stream",
     "text": [
      "[0, 1, 2, 3, 4, 5, 6, 7, 8, 9, 10, 11, 12, 13, 14]\n"
     ]
    }
   ],
   "source": [
    "print(elements_arr)"
   ]
  },
  {
   "cell_type": "code",
   "execution_count": 31,
   "id": "3af39e7a",
   "metadata": {},
   "outputs": [],
   "source": [
    "del elements_arr[11:14]"
   ]
  },
  {
   "cell_type": "code",
   "execution_count": 32,
   "id": "bace828b",
   "metadata": {},
   "outputs": [
    {
     "name": "stdout",
     "output_type": "stream",
     "text": [
      "[0, 1, 2, 3, 4, 5, 6, 7, 8, 9, 10, 14]\n"
     ]
    }
   ],
   "source": [
    "print(elements_arr)"
   ]
  }
 ],
 "metadata": {
  "kernelspec": {
   "display_name": "venv",
   "language": "python",
   "name": "python3"
  },
  "language_info": {
   "codemirror_mode": {
    "name": "ipython",
    "version": 3
   },
   "file_extension": ".py",
   "mimetype": "text/x-python",
   "name": "python",
   "nbconvert_exporter": "python",
   "pygments_lexer": "ipython3",
   "version": "3.12.7"
  }
 },
 "nbformat": 4,
 "nbformat_minor": 5
}
